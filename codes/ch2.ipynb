{
 "cells": [
  {
   "cell_type": "markdown",
   "metadata": {},
   "source": [
    "### Machine Learning for Asset Managers\n",
    "\n",
    "#Chapter 2: Denoising and Detoning\n",
    "\n",
    "Esse segundo capítulo apresenta uma metodologia parar tratar o ruído e reter o sinal de matrizes de covariância. Esse procedimento é muito útil para obter melhores carteiras com o processo de Markovitz. Para isso, usamos da conclusão do  teorema de Marchenko-Pastur, que diz que uma matriz (NxT) com entradas iid cujo processo gerador dos dados possui média zero e variância definida terá, quando N, T tenderem ao infinito, autovalores que seguirão um dada distribuiço — Marchenko-Pastur. \n",
    "\n",
    "A ideia de usar desse teorema é que se o conteúdo da matriz for realmente aleatório, a distribuição dos autovalores seguirá a fdp de Marcenko-Pastur. Todos os autovalores dentro do range definido pela função são compatíveis com um comportamento estocástico. Por outro lado, o que está fora possui algum tipo de estrutura e é o que o livro chama de sinal. \n",
    "\n",
    "\n",
    "*Tentei juntar a explicação de vários lugares. Os códgios não são necessariamente meus.\n",
    "\n",
    "*Outras referências: \n",
    "https://medium.com/swlh/an-empirical-view-of-marchenko-pastur-theorem-1f564af5603d\n",
    "https://faculty.baruch.cuny.edu/jgatheral/RandomMatrixCovariance2008.pdf\n",
    "https://srome.github.io/Eigenvesting-III-Random-Matrix-Filtering-In-Finance/"
   ]
  },
  {
   "cell_type": "code",
   "execution_count": 1,
   "metadata": {},
   "outputs": [],
   "source": [
    "import numpy as np\n",
    "import pandas as pd\n",
    "from sklearn.neighbors import KernelDensity\n",
    "from scipy.optimize import minimize\n",
    "from scipy.linalg import block_diag\n",
    "from sklearn.covariance import LedoitWolf\n",
    "import matplotlib.pyplot as plt"
   ]
  },
  {
   "cell_type": "code",
   "execution_count": 2,
   "metadata": {},
   "outputs": [],
   "source": [
    "def mpPDF(var, q, pts):\n",
    "    \"\"\"\n",
    "    Creates a Marchenko-Pastur Probability Density Function\n",
    "    Args:\n",
    "        var (float): Variance\n",
    "        q (float): T/N where T is the number of rows and N the number of columns\n",
    "        pts (int): Number of points used to construct the PDF\n",
    "    Returns:\n",
    "        pd.Series: Marchenko-Pastur PDF\n",
    "    \"\"\"\n",
    "    # Marchenko-Pastur pdf\n",
    "    # q=T/N\n",
    "    # Adjusting code to work with 1 dimension arrays\n",
    "    if isinstance(var, np.ndarray):\n",
    "        if var.shape == (1,):\n",
    "            var = var[0]\n",
    "    eMin, eMax = var * (1 - (1. / q) ** .5) ** 2, var * (1 + (1. / q) ** .5) ** 2\n",
    "    eVal = np.linspace(eMin, eMax, pts)\n",
    "    pdf = q / (2 * np.pi * var * eVal) * ((eMax - eVal) * (eVal - eMin)) ** .5\n",
    "    pdf = pd.Series(pdf, index=eVal)\n",
    "    return pdf"
   ]
  },
  {
   "cell_type": "markdown",
   "metadata": {},
   "source": [
    "A figura abaixo apresenta o que deveria ser a distribuição dos autovalores de uma matriz estocástica."
   ]
  },
  {
   "cell_type": "code",
   "execution_count": 3,
   "metadata": {},
   "outputs": [
    {
     "data": {
      "text/plain": [
       "<matplotlib.legend.Legend at 0xfda7250>"
      ]
     },
     "execution_count": 3,
     "metadata": {},
     "output_type": "execute_result"
    },
    {
     "data": {
      "image/png": "[encoded data removed]",
      "text/plain": [
       "<Figure size 432x288 with 1 Axes>"
      ]
     },
     "metadata": {
      "needs_background": "light"
     },
     "output_type": "display_data"
    }
   ],
   "source": [
    "m = mpPDF(1, 1000/100, 1000)\n",
    "\n",
    "ax = m.plot(title=\"Marchenko-Pastur Distribution\", label=\"Marchenko-Pastur\", color=\"deepskyblue\")\n",
    "ax.set(xlabel=\"λ\", ylabel=\"prob[λ]\")\n",
    "ax.legend(loc=\"upper right\")"
   ]
  },
  {
   "cell_type": "code",
   "execution_count": 4,
   "metadata": {},
   "outputs": [],
   "source": [
    "def getPCA(matrix):\n",
    "    \"\"\"\n",
    "    Gets the Eigenvalues and Eigenvector values from a Hermitian Matrix\n",
    "    Args:\n",
    "        matrix pd.DataFrame: Correlation matrix\n",
    "    Returns:\n",
    "         (tuple): tuple containing:\n",
    "            np.ndarray: Eigenvalues of correlation matrix\n",
    "            np.ndarray: Eigenvectors of correlation matrix\n",
    "    \"\"\"\n",
    "    # Get eVal,eVec from a Hermitian matrix\n",
    "    eVal, eVec = np.linalg.eigh(matrix)\n",
    "    indices = eVal.argsort()[::-1]  # arguments for sorting eVal desc\n",
    "    eVal, eVec = eVal[indices], eVec[:, indices]\n",
    "    eVal = np.diagflat(eVal)\n",
    "    return eVal, eVec"
   ]
  },
  {
   "cell_type": "code",
   "execution_count": 5,
   "metadata": {},
   "outputs": [],
   "source": [
    "def fitKDE(obs, bWidth=.25, kernel='gaussian', x=None):\n",
    "    \"\"\"\n",
    "    Fit kernel to a series of obs, and derive the prob of obs x is the array of values\n",
    "        on which the fit KDE will be evaluated. It is the empirical PDF\n",
    "    Args:\n",
    "        obs (np.ndarray): observations to fit. Commonly is the diagonal of Eigenvalues\n",
    "        bWidth (float): The bandwidth of the kernel. Default is .25\n",
    "        kernel (str): The kernel to use. Valid kernels are [‘gaussian’|’tophat’|\n",
    "            ’epanechnikov’|’exponential’|’linear’|’cosine’] Default is ‘gaussian’.\n",
    "        x (np.ndarray): x is the array of values on which the fit KDE will be evaluated\n",
    "    Returns:\n",
    "        pd.Series: Empirical PDF\n",
    "    \"\"\"\n",
    "    if len(obs.shape) == 1:\n",
    "        obs = obs.reshape(-1, 1)\n",
    "    kde = KernelDensity(kernel=kernel, bandwidth=bWidth).fit(obs)\n",
    "    if x is None:\n",
    "        x = np.unique(obs).reshape(-1, 1)\n",
    "    if len(x.shape) == 1:\n",
    "        x = x.reshape(-1, 1)\n",
    "    logProb = kde.score_samples(x)  # log(density)\n",
    "    pdf = pd.Series(np.exp(logProb), index=x.flatten())\n",
    "    return pdf"
   ]
  },
  {
   "cell_type": "markdown",
   "metadata": {},
   "source": [
    "Acima temos as funções que usaremos. A primeira é a função de distribuição de probabilidades de Marchenko-Pastur, a segunda calcula os autovalores e autovetores de uma matriz e por fim a terceira ajusta uma função de densidade Kernel a matriz. O próximo passo é gerar uma matriz aleatória e testar o teorema.  "
   ]
  },
  {
   "cell_type": "code",
   "execution_count": 6,
   "metadata": {},
   "outputs": [],
   "source": [
    "#Gerando uma matriz aleatoria \n",
    "x = np.random.normal(size=(10000,1000))"
   ]
  },
  {
   "cell_type": "code",
   "execution_count": 7,
   "metadata": {},
   "outputs": [],
   "source": [
    "# Getting eigenvalues and eigenvectors\n",
    "eVal0, eVec0 = getPCA(np.corrcoef(x, rowvar=0))"
   ]
  },
  {
   "cell_type": "code",
   "execution_count": 11,
   "metadata": {},
   "outputs": [],
   "source": [
    "# Marchenko-Pastur pdf\n",
    "pdf0 = mpPDF(1., q=x.shape[0]/float(x.shape[1]), pts=1000)"
   ]
  },
  {
   "cell_type": "code",
   "execution_count": 12,
   "metadata": {},
   "outputs": [],
   "source": [
    "# Empirical pdf\n",
    "pdf1= fitKDE(np.diag(eVal0), bWidth=0.01)"
   ]
  },
  {
   "cell_type": "code",
   "execution_count": 13,
   "metadata": {},
   "outputs": [
    {
     "data": {
      "text/plain": [
       "<matplotlib.legend.Legend at 0x10076dd0>"
      ]
     },
     "execution_count": 13,
     "metadata": {},
     "output_type": "execute_result"
    },
    {
     "data": {
      "image/png": "[encoded data removed]",
      "text/plain": [
       "<Figure size 432x288 with 1 Axes>"
      ]
     },
     "metadata": {
      "needs_background": "light"
     },
     "output_type": "display_data"
    }
   ],
   "source": [
    "# Plotting results\n",
    "ax = pdf0.plot(title=\"Marchenko-Pastur Theorem\", label=\"Marchenko-Pastur\", color=\"deepskyblue\")\n",
    "pdf1.plot(label=\"Empirical Value\", color=\"mediumspringgreen\")\n",
    "ax.set(xlabel=\"λ\", ylabel=\"prob[λ]\")\n",
    "ax.legend(loc=\"upper right\")"
   ]
  },
  {
   "cell_type": "code",
   "execution_count": 14,
   "metadata": {},
   "outputs": [],
   "source": [
    "def getRndCov(nCols, nFacts):\n",
    "    \"\"\"\n",
    "    Generates a Random Covariance Matrix\n",
    "    Args:\n",
    "        nCols (int): number of columns of random normal. This will be the dimensions of\n",
    "            the output\n",
    "        nFacts (int): number of rows of random normal\n",
    "    Returns:\n",
    "        np.ndarray: random covariance matrix\n",
    "    \"\"\"\n",
    "    w = np.random.normal(size=(nCols, nFacts))\n",
    "    cov = np.dot(w, w.T)  # random cov matrix, however not full rank\n",
    "    cov += np.diag(np.random.uniform(size=nCols))  # full rank cov\n",
    "    return cov"
   ]
  },
  {
   "cell_type": "code",
   "execution_count": 15,
   "metadata": {},
   "outputs": [],
   "source": [
    "def cov2corr(cov):\n",
    "    \"\"\"\n",
    "    Derive the correlation matrix from a covariance matrix\n",
    "    Args:\n",
    "        cov (np.ndarray): covariance matrix\n",
    "    Returns:\n",
    "        np.ndarray: correlation matrix\n",
    "    \"\"\"\n",
    "    std = np.sqrt(np.diag(cov))\n",
    "    corr = cov / np.outer(std, std)\n",
    "    corr[corr < -1], corr[corr > 1] = -1, 1  # numerical error\n",
    "    return corr"
   ]
  },
  {
   "cell_type": "code",
   "execution_count": 16,
   "metadata": {},
   "outputs": [],
   "source": [
    "def errPDFs(var, eVal, q, bWidth, pts=1000):\n",
    "    \"\"\"\n",
    "    Fit error of Empirical PDF (uses Marchenko-Pastur PDF)\n",
    "    Args:\n",
    "        var (float): Variance\n",
    "        eVal (np.ndarray): Eigenvalues to fit.\n",
    "        q (float): T/N where T is the number of rows and N the number of columns\n",
    "        bWidth (float): The bandwidth of the kernel.\n",
    "        pts (int): Number of points used to construct the PDF\n",
    "    Returns:\n",
    "        float: sum squared error\n",
    "    \"\"\"\n",
    "    # Fit error\n",
    "    pdf0 = mpPDF(var, q, pts)  # theoretical pdf\n",
    "    pdf1 = fitKDE(eVal, bWidth, x=pdf0.index.values)  # empirical pdf\n",
    "    sse = np.sum((pdf1 - pdf0) ** 2)\n",
    "    return sse"
   ]
  },
  {
   "cell_type": "code",
   "execution_count": 17,
   "metadata": {},
   "outputs": [],
   "source": [
    "def findMaxEval(eVal, q, bWidth):\n",
    "    \"\"\"\n",
    "    Find max random eVal by fitting Marchenko’s dist (i.e) everything else larger than\n",
    "        this, is a signal eigenvalue\n",
    "    Args:\n",
    "        eVal (np.ndarray): Eigenvalues to fit on errPDFs\n",
    "        q (float): T/N where T is the number of rows and N the number of columns\n",
    "        bWidth (float): The bandwidth of the kernel.\n",
    "    Returns:\n",
    "         (tuple): tuple containing:\n",
    "            float: Maximum random eigenvalue\n",
    "            float: Variance attributed to noise (1-result) is one way to measure\n",
    "                signal-to-noise\n",
    "    \"\"\"\n",
    "\n",
    "    out = minimize(lambda *x: errPDFs(*x), .5, args=(eVal, q, bWidth),\n",
    "                   bounds=((1E-5, 1 - 1E-5),))\n",
    "    if out['success']:\n",
    "        var = out['x'][0]\n",
    "    else:\n",
    "        var = 1\n",
    "    eMax = var * (1 + (1. / q) ** .5) ** 2\n",
    "    return eMax, var"
   ]
  },
  {
   "cell_type": "code",
   "execution_count": 63,
   "metadata": {},
   "outputs": [],
   "source": [
    "alpha, nCols, nFact, q = .995, 1000, 100, 10\n",
    "# Random Matrix\n",
    "rand_matrix = np.random.normal(size=(nCols * q, nCols))\n",
    "# Covariance Matrix\n",
    "cov = np.cov(rand_matrix, rowvar=0)\n",
    "# Adding signal to Covariance Matrix\n",
    "cov = alpha * cov + (1 - alpha) * getRndCov(nCols, nFact) # noise + signal\n",
    "# Converting Covariancce to Correlation\n",
    "corr0 = cov2corr(cov)\n",
    "# Getting Eigenvalues and Eigenvectors\n",
    "eigenv_with_signal, eVec0 = getPCA(corr0)"
   ]
  },
  {
   "cell_type": "code",
   "execution_count": 64,
   "metadata": {},
   "outputs": [],
   "source": [
    "# Getting Max Eigenvalues and calculating variance attributed to noise\n",
    "eMax0, var0 = findMaxEval(np.diag(eigenv_with_signal), q, bWidth=0.01)\n",
    "nFacts0 = eigenv_with_signal.shape[0] - np.diag(eigenv_with_signal)[::-1].searchsorted(eMax0)"
   ]
  },
  {
   "cell_type": "code",
   "execution_count": 65,
   "metadata": {},
   "outputs": [],
   "source": [
    "# Getting PDFs and plotting it\n",
    "pdf0 = mpPDF(var0, q=10, pts=1000)\n",
    "pdf1 = fitKDE(np.diag(eigenv_with_signal), bWidth=0.01)  # Empirical PDF"
   ]
  },
  {
   "cell_type": "code",
   "execution_count": 68,
   "metadata": {},
   "outputs": [
    {
     "data": {
      "text/plain": [
       "(0, 2)"
      ]
     },
     "execution_count": 68,
     "metadata": {},
     "output_type": "execute_result"
    },
    {
     "data": {
      "image/png": "[encoded data removed]",
      "text/plain": [
       "<Figure size 1080x540 with 1 Axes>"
      ]
     },
     "metadata": {
      "needs_background": "light"
     },
     "output_type": "display_data"
    }
   ],
   "source": [
    "# Plotting PDFs\n",
    "ax = pdf0.plot(title=\"Marchenko-Pastur Theorem\", label=\"Marchenko-Pastur\", color=\"deepskyblue\", figsize=(15,7.5))\n",
    "ax.hist(pd.Series(np.diag(eigenv_with_signal)), density=\"norm\", bins=1000, label=\"Empirical Value\", color=\"mediumspringgreen\")\n",
    "ax.set(xlabel=\"λ\", ylabel=\"prob[λ]\")\n",
    "ax.legend(loc=\"upper right\")\n",
    "# Set the limit for each axis\n",
    "plt.xlim(0, 10)\n",
    "plt.ylim(0,2)"
   ]
  },
  {
   "cell_type": "markdown",
   "metadata": {},
   "source": [
    "Tudo o que está a direita pode ser associado como sinal. "
   ]
  }
 ],
 "metadata": {
  "kernelspec": {
   "display_name": "Python 3",
   "language": "python",
   "name": "python3"
  },
  "language_info": {
   "codemirror_mode": {
    "name": "ipython",
    "version": 3
   },
   "file_extension": ".py",
   "mimetype": "text/x-python",
   "name": "python",
   "nbconvert_exporter": "python",
   "pygments_lexer": "ipython3",
   "version": "3.7.4"
  }
 },
 "nbformat": 4,
 "nbformat_minor": 4
}
