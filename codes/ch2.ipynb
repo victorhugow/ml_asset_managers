{
 "cells": [
  {
   "cell_type": "markdown",
   "metadata": {},
   "source": [
    "### Machine Learning for Asset Managers\n",
    "\n",
    "#Chapter 2: Denoising and Detoning\n",
    "\n",
    "Esse segundo capítulo apresenta uma metodologia parar tratar o ruído e reter o sinal de matrizes de covariância. Esse procedimento é muito útil para obter melhores carteiras com o processo de Markovitz. Para isso, usamos da conclusão do  teorema de Marchenko-Pastur, que diz que uma matriz (NxT) com entradas iid cujo processo gerador dos dados possui média zero e variância definida terá, quando N, T tenderem ao infinito, autovalores que seguirão um dada distribuiço — Marchenko-Pastur.\n",
    "\n",
    "\n",
    "Tentei juntar a explicação de vários lugares. Os códgios não são necessariamente meus.\n",
    "Além do livro, utilizei essa fonte: https://medium.com/swlh/an-empirical-view-of-marchenko-pastur-theorem-1f564af5603d"
   ]
  },
  {
   "cell_type": "code",
   "execution_count": 13,
   "metadata": {},
   "outputs": [],
   "source": [
    "import numpy as np\n",
    "import pandas as pd\n",
    "from sklearn.neighbors import KernelDensity\n",
    "from scipy.optimize import minimize\n",
    "from scipy.linalg import block_diag\n",
    "from sklearn.covariance import LedoitWolf\n",
    "import matplotlib.pyplot as plt"
   ]
  },
  {
   "cell_type": "code",
   "execution_count": 8,
   "metadata": {},
   "outputs": [],
   "source": [
    "def mpPDF(var, q, pts):\n",
    "    \"\"\"\n",
    "    Creates a Marchenko-Pastur Probability Density Function\n",
    "    Args:\n",
    "        var (float): Variance\n",
    "        q (float): T/N where T is the number of rows and N the number of columns\n",
    "        pts (int): Number of points used to construct the PDF\n",
    "    Returns:\n",
    "        pd.Series: Marchenko-Pastur PDF\n",
    "    \"\"\"\n",
    "    # Marchenko-Pastur pdf\n",
    "    # q=T/N\n",
    "    # Adjusting code to work with 1 dimension arrays\n",
    "    if isinstance(var, np.ndarray):\n",
    "        if var.shape == (1,):\n",
    "            var = var[0]\n",
    "    eMin, eMax = var * (1 - (1. / q) ** .5) ** 2, var * (1 + (1. / q) ** .5) ** 2\n",
    "    eVal = np.linspace(eMin, eMax, pts)\n",
    "    pdf = q / (2 * np.pi * var * eVal) * ((eMax - eVal) * (eVal - eMin)) ** .5\n",
    "    pdf = pd.Series(pdf, index=eVal)\n",
    "    return pdf\n"
   ]
  },
  {
   "cell_type": "code",
   "execution_count": 11,
   "metadata": {},
   "outputs": [],
   "source": [
    "def getPCA(matrix):\n",
    "    \"\"\"\n",
    "    Gets the Eigenvalues and Eigenvector values from a Hermitian Matrix\n",
    "    Args:\n",
    "        matrix pd.DataFrame: Correlation matrix\n",
    "    Returns:\n",
    "         (tuple): tuple containing:\n",
    "            np.ndarray: Eigenvalues of correlation matrix\n",
    "            np.ndarray: Eigenvectors of correlation matrix\n",
    "    \"\"\"\n",
    "    # Get eVal,eVec from a Hermitian matrix\n",
    "    eVal, eVec = np.linalg.eigh(matrix)\n",
    "    indices = eVal.argsort()[::-1]  # arguments for sorting eVal desc\n",
    "    eVal, eVec = eVal[indices], eVec[:, indices]\n",
    "    eVal = np.diagflat(eVal)\n",
    "    return eVal, eVec"
   ]
  },
  {
   "cell_type": "code",
   "execution_count": 54,
   "metadata": {},
   "outputs": [],
   "source": [
    "def fitKDE(obs, bWidth=.25, kernel='gaussian', x=None):\n",
    "    \"\"\"\n",
    "    Fit kernel to a series of obs, and derive the prob of obs x is the array of values\n",
    "        on which the fit KDE will be evaluated. It is the empirical PDF\n",
    "    Args:\n",
    "        obs (np.ndarray): observations to fit. Commonly is the diagonal of Eigenvalues\n",
    "        bWidth (float): The bandwidth of the kernel. Default is .25\n",
    "        kernel (str): The kernel to use. Valid kernels are [‘gaussian’|’tophat’|\n",
    "            ’epanechnikov’|’exponential’|’linear’|’cosine’] Default is ‘gaussian’.\n",
    "        x (np.ndarray): x is the array of values on which the fit KDE will be evaluated\n",
    "    Returns:\n",
    "        pd.Series: Empirical PDF\n",
    "    \"\"\"\n",
    "    if len(obs.shape) == 1:\n",
    "        obs = obs.reshape(-1, 1)\n",
    "    kde = KernelDensity(kernel=kernel, bandwidth=bWidth).fit(obs)\n",
    "    if x is None:\n",
    "        x = np.unique(obs).reshape(-1, 1)\n",
    "    if len(x.shape) == 1:\n",
    "        x = x.reshape(-1, 1)\n",
    "    logProb = kde.score_samples(x)  # log(density)\n",
    "    pdf = pd.Series(np.exp(logProb), index=x.flatten())\n",
    "    return pdf"
   ]
  },
  {
   "cell_type": "markdown",
   "metadata": {},
   "source": [
    "Acima temos as funções que usaremos. A primeira é a função de distribuição de probabilidades de Marchenko-Pastur, a segunda calcula os autovalores e autovetores de uma matriz e por fim a terceira ajusta uma função de densidade Kernel a matriz. O próximo passo é gerar uma matriz aleatória e testar o teorema.  "
   ]
  },
  {
   "cell_type": "code",
   "execution_count": 53,
   "metadata": {},
   "outputs": [
    {
     "data": {
      "text/plain": [
       "array([[-1.0856306 ,  0.99734545,  0.2829785 , ..., -0.90932702,\n",
       "         0.47026375, -1.11143045],\n",
       "       [-0.74882747,  0.56759473,  0.71815054, ..., -0.35929672,\n",
       "        -1.60969508,  0.01357006],\n",
       "       [-1.77422355, -1.20137731,  1.09625679, ...,  2.04043199,\n",
       "         1.01591697, -1.63378817],\n",
       "       ...,\n",
       "       [ 0.74653161,  0.90786531, -0.75260661, ..., -0.57423796,\n",
       "        -0.97992589,  0.47526078],\n",
       "       [ 2.6618881 ,  1.44373246, -1.64705105, ..., -1.24904441,\n",
       "         1.16491629,  1.61043992],\n",
       "       [-1.22281157,  0.13877042,  0.60484863, ..., -0.52814446,\n",
       "         0.08482555,  0.9228148 ]])"
      ]
     },
     "execution_count": 53,
     "metadata": {},
     "output_type": "execute_result"
    }
   ],
   "source": [
    "#Gerando uma matriz aleatoria \n",
    "np.random.seed(123)\n",
    "x = np.random.normal(size=(10000,1000))\n",
    "x\n"
   ]
  },
  {
   "cell_type": "code",
   "execution_count": 41,
   "metadata": {},
   "outputs": [],
   "source": [
    "# Getting eigenvalues and eigenvectors\n",
    "eVal0, eVec0 = getPCA(np.corrcoef(x, rowvar=0))"
   ]
  },
  {
   "cell_type": "code",
   "execution_count": 42,
   "metadata": {},
   "outputs": [
    {
     "data": {
      "text/plain": [
       "array([[1.72345366, 0.        , 0.        , ..., 0.        , 0.        ,\n",
       "        0.        ],\n",
       "       [0.        , 1.72271149, 0.        , ..., 0.        , 0.        ,\n",
       "        0.        ],\n",
       "       [0.        , 0.        , 1.70937094, ..., 0.        , 0.        ,\n",
       "        0.        ],\n",
       "       ...,\n",
       "       [0.        , 0.        , 0.        , ..., 0.47714642, 0.        ,\n",
       "        0.        ],\n",
       "       [0.        , 0.        , 0.        , ..., 0.        , 0.47645736,\n",
       "        0.        ],\n",
       "       [0.        , 0.        , 0.        , ..., 0.        , 0.        ,\n",
       "        0.46543484]])"
      ]
     },
     "execution_count": 42,
     "metadata": {},
     "output_type": "execute_result"
    }
   ],
   "source": [
    "eVal0 #Autovalores\n"
   ]
  },
  {
   "cell_type": "code",
   "execution_count": 43,
   "metadata": {},
   "outputs": [
    {
     "data": {
      "text/plain": [
       "array([[ 0.0002629 , -0.041895  ,  0.0234236 , ...,  0.03926407,\n",
       "        -0.03878253,  0.01982549],\n",
       "       [-0.00446892, -0.01403512, -0.01877192, ..., -0.00511263,\n",
       "        -0.02679496,  0.03269802],\n",
       "       [-0.01348884, -0.00816666, -0.02087269, ..., -0.01520895,\n",
       "         0.05970443, -0.03581736],\n",
       "       ...,\n",
       "       [-0.03044996, -0.03794991,  0.05491049, ..., -0.0319976 ,\n",
       "        -0.04647435,  0.03270032],\n",
       "       [-0.06155423, -0.0123507 , -0.00510323, ..., -0.00608499,\n",
       "        -0.00309777, -0.03927227],\n",
       "       [ 0.05215356,  0.05695049, -0.06556502, ..., -0.01099847,\n",
       "         0.00231055, -0.01096587]])"
      ]
     },
     "execution_count": 43,
     "metadata": {},
     "output_type": "execute_result"
    }
   ],
   "source": [
    "eVec0 #Autovetores"
   ]
  },
  {
   "cell_type": "code",
   "execution_count": 44,
   "metadata": {},
   "outputs": [
    {
     "data": {
      "text/plain": [
       "0.467544    0.000000\n",
       "0.468811    0.135795\n",
       "0.470077    0.191429\n",
       "0.471343    0.233705\n",
       "0.472609    0.269001\n",
       "              ...   \n",
       "1.727391    0.073598\n",
       "1.728657    0.063723\n",
       "1.729923    0.052018\n",
       "1.731189    0.036774\n",
       "1.732456    0.000000\n",
       "Length: 1000, dtype: float64"
      ]
     },
     "execution_count": 44,
     "metadata": {},
     "output_type": "execute_result"
    }
   ],
   "source": [
    "# Marchenko-Pastur pdf\n",
    "pdf0 = mpPDF(1., q=x.shape[0]/float(x.shape[1]), pts=1000)\n",
    "pdf0"
   ]
  },
  {
   "cell_type": "code",
   "execution_count": 45,
   "metadata": {},
   "outputs": [
    {
     "data": {
      "text/plain": [
       "0.465435    0.120657\n",
       "0.476457    0.303028\n",
       "0.477146    0.316537\n",
       "0.481516    0.401404\n",
       "0.482399    0.417799\n",
       "              ...   \n",
       "1.698020    0.180942\n",
       "1.706167    0.160699\n",
       "1.709371    0.151060\n",
       "1.722711    0.109031\n",
       "1.723454    0.105742\n",
       "Length: 1000, dtype: float64"
      ]
     },
     "execution_count": 45,
     "metadata": {},
     "output_type": "execute_result"
    }
   ],
   "source": [
    "# Empirical pdf\n",
    "pdf1= fitKDE(np.diag(eVal0), bWidth=0.01)\n",
    "pdf1"
   ]
  },
  {
   "cell_type": "code",
   "execution_count": 46,
   "metadata": {},
   "outputs": [
    {
     "data": {
      "text/plain": [
       "<matplotlib.legend.Legend at 0xf87bb70>"
      ]
     },
     "execution_count": 46,
     "metadata": {},
     "output_type": "execute_result"
    },
    {
     "data": {
      "image/png": "[encoded data removed]",
      "text/plain": [
       "<Figure size 432x288 with 1 Axes>"
      ]
     },
     "metadata": {},
     "output_type": "display_data"
    }
   ],
   "source": [
    "# Plotting results\n",
    "ax = pdf0.plot(title=\"Marchenko-Pastur Theorem\", label=\"Marchenko-Pastur\", color=\"deepskyblue\")\n",
    "pdf1.plot(label=\"Empirical Value\", color=\"mediumspringgreen\")\n",
    "ax.set(xlabel=\"λ\", ylabel=\"prob[λ]\")\n",
    "ax.legend(loc=\"upper right\")"
   ]
  },
  {
   "cell_type": "code",
   "execution_count": 102,
   "metadata": {},
   "outputs": [],
   "source": [
    "def getRndCov(nCols, nFacts):\n",
    "    \"\"\"\n",
    "    Generates a Random Covariance Matrix\n",
    "    Args:\n",
    "        nCols (int): number of columns of random normal. This will be the dimensions of\n",
    "            the output\n",
    "        nFacts (int): number of rows of random normal\n",
    "    Returns:\n",
    "        np.ndarray: random covariance matrix\n",
    "    \"\"\"\n",
    "    w = np.random.normal(size=(nCols, nFacts))\n",
    "    cov = np.dot(w, w.T)  # random cov matrix, however not full rank\n",
    "    cov += np.diag(np.random.uniform(size=nCols))  # full rank cov\n",
    "    return cov"
   ]
  },
  {
   "cell_type": "code",
   "execution_count": 103,
   "metadata": {},
   "outputs": [],
   "source": [
    "def cov2corr(cov):\n",
    "    \"\"\"\n",
    "    Derive the correlation matrix from a covariance matrix\n",
    "    Args:\n",
    "        cov (np.ndarray): covariance matrix\n",
    "    Returns:\n",
    "        np.ndarray: correlation matrix\n",
    "    \"\"\"\n",
    "    std = np.sqrt(np.diag(cov))\n",
    "    corr = cov / np.outer(std, std)\n",
    "    corr[corr < -1], corr[corr > 1] = -1, 1  # numerical error\n",
    "    return corr"
   ]
  },
  {
   "cell_type": "code",
   "execution_count": 104,
   "metadata": {},
   "outputs": [],
   "source": [
    "def errPDFs(var, eVal, q, bWidth, pts=1000):\n",
    "    \"\"\"\n",
    "    Fit error of Empirical PDF (uses Marchenko-Pastur PDF)\n",
    "    Args:\n",
    "        var (float): Variance\n",
    "        eVal (np.ndarray): Eigenvalues to fit.\n",
    "        q (float): T/N where T is the number of rows and N the number of columns\n",
    "        bWidth (float): The bandwidth of the kernel.\n",
    "        pts (int): Number of points used to construct the PDF\n",
    "    Returns:\n",
    "        float: sum squared error\n",
    "    \"\"\"\n",
    "    # Fit error\n",
    "    pdf0 = mpPDF(var, q, pts)  # theoretical pdf\n",
    "    pdf1 = fitKDE(eVal, bWidth, x=pdf0.index.values)  # empirical pdf\n",
    "    sse = np.sum((pdf1 - pdf0) ** 2)\n",
    "    return sse"
   ]
  },
  {
   "cell_type": "code",
   "execution_count": 105,
   "metadata": {},
   "outputs": [],
   "source": [
    "def findMaxEval(eVal, q, bWidth):\n",
    "    \"\"\"\n",
    "    Find max random eVal by fitting Marchenko’s dist (i.e) everything else larger than\n",
    "        this, is a signal eigenvalue\n",
    "    Args:\n",
    "        eVal (np.ndarray): Eigenvalues to fit on errPDFs\n",
    "        q (float): T/N where T is the number of rows and N the number of columns\n",
    "        bWidth (float): The bandwidth of the kernel.\n",
    "    Returns:\n",
    "         (tuple): tuple containing:\n",
    "            float: Maximum random eigenvalue\n",
    "            float: Variance attributed to noise (1-result) is one way to measure\n",
    "                signal-to-noise\n",
    "    \"\"\"\n",
    "\n",
    "    out = minimize(lambda *x: errPDFs(*x), .5, args=(eVal, q, bWidth),\n",
    "                   bounds=((1E-5, 1 - 1E-5),))\n",
    "    if out['success']:\n",
    "        var = out['x'][0]\n",
    "    else:\n",
    "        var = 1\n",
    "    eMax = var * (1 + (1. / q) ** .5) ** 2\n",
    "    return eMax, var"
   ]
  },
  {
   "cell_type": "code",
   "execution_count": 106,
   "metadata": {},
   "outputs": [],
   "source": [
    "alpha, nCols, nFact, q = .995, 1000, 100, 10\n",
    "# Random Matrix\n",
    "rand_matrix = np.random.normal(size=(nCols * q, nCols))\n",
    "# Covariance Matrix\n",
    "cov = np.cov(rand_matrix, rowvar=0)\n",
    "# Adding signal to Covariance Matrix\n",
    "cov = alpha * cov + (1 - alpha) * getRndCov(nCols, nFact) # noise + signal\n",
    "# Converting Covariancce to Correlation\n",
    "corr0 = cov2corr(cov)\n",
    "# Getting Eigenvalues and Eigenvectors\n",
    "eVal0, eVec0 = getPCA(corr0)"
   ]
  },
  {
   "cell_type": "code",
   "execution_count": 94,
   "metadata": {},
   "outputs": [],
   "source": [
    "# Getting Max Eigenvalues and calculating variance attributed to noise\n",
    "eMax0, var0 = findMaxEval(np.diag(eVal0), q, bWidth=0.01)\n",
    "nFacts0 = eVal0.shape[0] - np.diag(eVal0)[::-1].searchsorted(eMax0)"
   ]
  },
  {
   "cell_type": "code",
   "execution_count": 107,
   "metadata": {},
   "outputs": [],
   "source": [
    "# Getting PDFs and plotting it\n",
    "pdf0 = mpPDF(var0, q=10, pts=1000)\n",
    "pdf1 = fitKDE(np.diag(eVal0), bWidth=0.01)  # Empirical PDF"
   ]
  },
  {
   "cell_type": "code",
   "execution_count": 108,
   "metadata": {},
   "outputs": [
    {
     "data": {
      "text/plain": [
       "<matplotlib.legend.Legend at 0x3ce483b0>"
      ]
     },
     "execution_count": 108,
     "metadata": {},
     "output_type": "execute_result"
    },
    {
     "data": {
      "image/png": "[encoded data removed]",
      "text/plain": [
       "<Figure size 1080x540 with 1 Axes>"
      ]
     },
     "metadata": {},
     "output_type": "display_data"
    }
   ],
   "source": [
    "# Plotting PDFs\n",
    "ax = pdf0.plot(title=\"Marchenko-Pastur Theorem\", label=\"Marchenko-Pastur\", color=\"deepskyblue\", figsize=(15,7.5))\n",
    "ax.hist(pd.Series(np.diag(eVal0)), density=\"norm\", bins=1000, label=\"Empirical Value\", color=\"mediumspringgreen\")\n",
    "ax.set(xlabel=\"λ\", ylabel=\"prob[λ]\")\n",
    "ax.legend(loc=\"upper right\")\n",
    "#Isso aqui ta erradissimo"
   ]
  }
 ],
 "metadata": {
  "kernelspec": {
   "display_name": "Python 3",
   "language": "python",
   "name": "python3"
  },
  "language_info": {
   "codemirror_mode": {
    "name": "ipython",
    "version": 3
   },
   "file_extension": ".py",
   "mimetype": "text/x-python",
   "name": "python",
   "nbconvert_exporter": "python",
   "pygments_lexer": "ipython3",
   "version": "3.7.4"
  }
 },
 "nbformat": 4,
 "nbformat_minor": 4
}
