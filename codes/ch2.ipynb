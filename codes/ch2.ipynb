{
 "cells": [
  {
   "cell_type": "markdown",
   "metadata": {},
   "source": [
    "### Machine Learning for Asset Managers\n",
    "\n",
    "#Chapter 2: Denoising and Detoning\n",
    "\n",
    "Esse segundo capítulo apresenta uma metodologia parar tratar o ruído e reter o sinal de matrizes de covariância. Esse procedimento é muito útil para obter melhores carteiras com o processo de Markovitz. Para isso, usamos da conclusão do  teorema de Marchenko-Pastur, que diz que uma matriz (NxT) com entradas iid cujo processo gerador dos dados possui média zero e variância definida terá, quando N, T tenderem ao infinito, autovalores que seguirão um dada distribuiço — Marchenko-Pastur.\n",
    "\n",
    "\n",
    "Além do livro, utilizei essa fonte: https://medium.com/swlh/an-empirical-view-of-marchenko-pastur-theorem-1f564af5603d"
   ]
  },
  {
   "cell_type": "code",
   "execution_count": 9,
   "metadata": {},
   "outputs": [],
   "source": [
    "import numpy as np\n",
    "import pandas as pd\n",
    "from sklearn.neighbors import KernelDensity\n",
    "from scipy.optimize import minimize\n",
    "from scipy.linalg import block_diag\n",
    "from sklearn.covariance import LedoitWolf"
   ]
  },
  {
   "cell_type": "code",
   "execution_count": 8,
   "metadata": {},
   "outputs": [],
   "source": [
    "def mpPDF(var, q, pts):\n",
    "    \"\"\"\n",
    "    Creates a Marchenko-Pastur Probability Density Function\n",
    "    Args:\n",
    "        var (float): Variance\n",
    "        q (float): T/N where T is the number of rows and N the number of columns\n",
    "        pts (int): Number of points used to construct the PDF\n",
    "    Returns:\n",
    "        pd.Series: Marchenko-Pastur PDF\n",
    "    \"\"\"\n",
    "    # Marchenko-Pastur pdf\n",
    "    # q=T/N\n",
    "    # Adjusting code to work with 1 dimension arrays\n",
    "    if isinstance(var, np.ndarray):\n",
    "        if var.shape == (1,):\n",
    "            var = var[0]\n",
    "    eMin, eMax = var * (1 - (1. / q) ** .5) ** 2, var * (1 + (1. / q) ** .5) ** 2\n",
    "    eVal = np.linspace(eMin, eMax, pts)\n",
    "    pdf = q / (2 * np.pi * var * eVal) * ((eMax - eVal) * (eVal - eMin)) ** .5\n",
    "    pdf = pd.Series(pdf, index=eVal)\n",
    "    return pdf\n"
   ]
  },
  {
   "cell_type": "code",
   "execution_count": 11,
   "metadata": {},
   "outputs": [],
   "source": [
    "def getPCA(matrix):\n",
    "    \"\"\"\n",
    "    Gets the Eigenvalues and Eigenvector values from a Hermitian Matrix\n",
    "    Args:\n",
    "        matrix pd.DataFrame: Correlation matrix\n",
    "    Returns:\n",
    "         (tuple): tuple containing:\n",
    "            np.ndarray: Eigenvalues of correlation matrix\n",
    "            np.ndarray: Eigenvectors of correlation matrix\n",
    "    \"\"\"\n",
    "    # Get eVal,eVec from a Hermitian matrix\n",
    "    eVal, eVec = np.linalg.eigh(matrix)\n",
    "    indices = eVal.argsort()[::-1]  # arguments for sorting eVal desc\n",
    "    eVal, eVec = eVal[indices], eVec[:, indices]\n",
    "    eVal = np.diagflat(eVal)\n",
    "    return eVal, eVec"
   ]
  },
  {
   "cell_type": "code",
   "execution_count": null,
   "metadata": {},
   "outputs": [],
   "source": []
  }
 ],
 "metadata": {
  "kernelspec": {
   "display_name": "Python 3",
   "language": "python",
   "name": "python3"
  },
  "language_info": {
   "codemirror_mode": {
    "name": "ipython",
    "version": 3
   },
   "file_extension": ".py",
   "mimetype": "text/x-python",
   "name": "python",
   "nbconvert_exporter": "python",
   "pygments_lexer": "ipython3",
   "version": "3.7.4"
  }
 },
 "nbformat": 4,
 "nbformat_minor": 4
}
